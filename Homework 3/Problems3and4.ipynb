{
 "cells": [
  {
   "cell_type": "markdown",
   "id": "b1498e65-f2b4-4f36-b046-595c124b28c1",
   "metadata": {},
   "source": [
    "* This code can be found at: https://github.com/trentbellinger/Math-156/tree/main/Homework%202 "
   ]
  },
  {
   "cell_type": "markdown",
   "id": "addff18a-21aa-47c4-9659-59bed9f667f1",
   "metadata": {},
   "source": [
    "## Problem 3"
   ]
  },
  {
   "cell_type": "code",
   "execution_count": 1,
   "id": "490fda79-1abc-45b2-ab89-c1d4b525192a",
   "metadata": {},
   "outputs": [],
   "source": [
    "import numpy as np\n",
    "import pandas as pd\n",
    "\n",
    "# Sigmoid function\n",
    "def compute_sigmoid(z):\n",
    "    return 1 / (1 + np.exp(-z))\n",
    "\n",
    "# Loss function\n",
    "def compute_loss(X, y, w):\n",
    "    return -np.sum((1 - y) * np.log(compute_sigmoid(X @ w)) + y * np.log(1 - compute_sigmoid(X @ w)))\n",
    "\n",
    "# Mini-Batch SGD\n",
    "def get_weights(X, y, batch_size, fixed_learning_rate, max_iterations):\n",
    "    num_samples, num_features = X.shape\n",
    "    weights = np.random.randn(num_features)  # initialize weights with Gaussian distribution\n",
    "    \n",
    "    # Training with mini-batch SGD\n",
    "    for iteration in range(max_iterations):\n",
    "        \n",
    "        for start in range(0, num_samples, batch_size):\n",
    "            end = min(start + batch_size, num_samples)\n",
    "            X_batch = X[start:end]\n",
    "            y_batch = y[start:end]\n",
    "            \n",
    "            gradient = (compute_sigmoid(X_batch @ weights) - y_batch) @ X_batch\n",
    "            \n",
    "            weights -= fixed_learning_rate * gradient\n",
    "            \n",
    "    return weights\n",
    "\n",
    "def predict_new(X, weights):\n",
    "    return (compute_sigmoid(X @ weights) >= 0.5).astype(int)"
   ]
  },
  {
   "cell_type": "markdown",
   "id": "8a915ab7-994d-4d32-ba66-f42417515bbb",
   "metadata": {},
   "source": [
    "## Problem 4"
   ]
  },
  {
   "cell_type": "markdown",
   "id": "11d6e357-34b8-409e-a121-1a9d3e7a2cef",
   "metadata": {},
   "source": [
    "### Problem 4(a)"
   ]
  },
  {
   "cell_type": "code",
   "execution_count": 2,
   "id": "d4349516-a558-45b4-98b0-4ff18b01a7d1",
   "metadata": {},
   "outputs": [],
   "source": [
    "from ucimlrepo import fetch_ucirepo\n",
    "from sklearn.preprocessing import StandardScaler\n",
    "\n",
    "breast_cancer_wisconsin_diagnostic = fetch_ucirepo(id=17) \n",
    "X = StandardScaler().fit_transform(breast_cancer_wisconsin_diagnostic.data.features)\n",
    "y = np.array(breast_cancer_wisconsin_diagnostic.data.targets[\"Diagnosis\"])\n",
    "y[y == \"B\"] = \"0\"\n",
    "y[y == \"M\"] = \"1\"\n",
    "y = y.astype(int)"
   ]
  },
  {
   "cell_type": "markdown",
   "id": "c3f09648-17a2-498e-9d67-019393635016",
   "metadata": {},
   "source": [
    "### Problem 4(b)"
   ]
  },
  {
   "cell_type": "code",
   "execution_count": 3,
   "id": "fc380ff2-fcaa-415f-b8c5-fb76b0e0c42d",
   "metadata": {},
   "outputs": [],
   "source": [
    "from sklearn.model_selection import train_test_split\n",
    "\n",
    "X_train, X_temp, y_train, y_temp = train_test_split(X, y, test_size=0.3, random_state=42, stratify=y)\n",
    "X_val, X_test, y_val, y_test = train_test_split(X_temp, y_temp, test_size=2/3, random_state=42, stratify=y_temp)"
   ]
  },
  {
   "cell_type": "markdown",
   "id": "ff94f9bb-7fde-46ab-9fee-75557ad08ecb",
   "metadata": {},
   "source": [
    "### Problem 4\\(c\\)"
   ]
  },
  {
   "cell_type": "code",
   "execution_count": 4,
   "id": "aad21d7d-3f05-4484-8a90-5c1658ac22e6",
   "metadata": {},
   "outputs": [
    {
     "name": "stdout",
     "output_type": "stream",
     "text": [
      "Number of benign in training: 250\n",
      "Number of malignant in training: 148\n",
      "Number of benign in validation: 36\n",
      "Number of malignant in validation: 21\n"
     ]
    }
   ],
   "source": [
    "print(\"Number of benign in training:\", np.sum(y_train == 0))\n",
    "print(\"Number of malignant in training:\", np.sum(y_train == 1))\n",
    "print(\"Number of benign in validation:\", np.sum(y_val == 0))\n",
    "print(\"Number of malignant in validation:\", np.sum(y_val == 1))"
   ]
  },
  {
   "cell_type": "markdown",
   "id": "c70ed696-7b52-4900-8870-be054d937b84",
   "metadata": {},
   "source": [
    "### Problem 4(d)"
   ]
  },
  {
   "cell_type": "code",
   "execution_count": 5,
   "id": "e5bb196f-b7cb-4aed-b864-e98d0a695fc5",
   "metadata": {},
   "outputs": [],
   "source": [
    "weights = get_weights(X_train, y_train, fixed_learning_rate=0.0001, batch_size=10, max_iterations=100000)"
   ]
  },
  {
   "cell_type": "markdown",
   "id": "d8c83ae3-8ca9-43ee-ba52-dd7232fff673",
   "metadata": {},
   "source": [
    "### Problem 4(e)"
   ]
  },
  {
   "cell_type": "code",
   "execution_count": 6,
   "id": "754f2ed2-39a5-4ce7-9426-c74f44fcf694",
   "metadata": {},
   "outputs": [
    {
     "name": "stdout",
     "output_type": "stream",
     "text": [
      "Accuracy: 0.956140350877193\n",
      "Precision: 0.975\n",
      "Recall: 0.9069767441860465\n",
      "F1-Score: 0.9397590361445783\n"
     ]
    }
   ],
   "source": [
    "from sklearn.metrics import accuracy_score, precision_score, recall_score, f1_score\n",
    "\n",
    "test_preds = predict_new(X_test, weights)\n",
    "\n",
    "print(\"Accuracy:\", accuracy_score(y_test, test_preds))\n",
    "print(\"Precision:\", precision_score(y_test, test_preds))\n",
    "print(\"Recall:\", recall_score(y_test, test_preds))\n",
    "print(\"F1-Score:\", f1_score(y_test, test_preds))"
   ]
  },
  {
   "cell_type": "markdown",
   "id": "f25e99d1-179a-460f-9a0e-6d4d89ef24a0",
   "metadata": {},
   "source": [
    "### Problem 4(f)"
   ]
  },
  {
   "cell_type": "markdown",
   "id": "f316a853-f081-4ae0-86cd-d0dc34bfdaea",
   "metadata": {},
   "source": [
    "The model has an accuracy of 0.956, so it correctly classifies 95.6% of the breast cancer. The recall is relatively low in comparison to the other measures, which indicates that the model is not as good at correctly predicting malignant breast cancer. This is not good, because the model should not miss potentially deadly predictions of malignant cancer. Overall, the model performs very well, even with the mini-batch gradient descent, which was used to reduce computational intensiveness."
   ]
  }
 ],
 "metadata": {
  "kernelspec": {
   "display_name": "Python 3 (ipykernel)",
   "language": "python",
   "name": "python3"
  },
  "language_info": {
   "codemirror_mode": {
    "name": "ipython",
    "version": 3
   },
   "file_extension": ".py",
   "mimetype": "text/x-python",
   "name": "python",
   "nbconvert_exporter": "python",
   "pygments_lexer": "ipython3",
   "version": "3.11.5"
  }
 },
 "nbformat": 4,
 "nbformat_minor": 5
}
