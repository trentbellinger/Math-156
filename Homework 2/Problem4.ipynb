{
 "cells": [
  {
   "cell_type": "markdown",
   "id": "e0918051-cdba-4733-9421-317aaca5fbf0",
   "metadata": {},
   "source": [
    "## 4(a)"
   ]
  },
  {
   "cell_type": "code",
   "execution_count": 1,
   "id": "68e861ca-d6a0-4962-83b8-1215fce57a0a",
   "metadata": {},
   "outputs": [
    {
     "data": {
      "text/html": [
       "<div>\n",
       "<style scoped>\n",
       "    .dataframe tbody tr th:only-of-type {\n",
       "        vertical-align: middle;\n",
       "    }\n",
       "\n",
       "    .dataframe tbody tr th {\n",
       "        vertical-align: top;\n",
       "    }\n",
       "\n",
       "    .dataframe thead th {\n",
       "        text-align: right;\n",
       "    }\n",
       "</style>\n",
       "<table border=\"1\" class=\"dataframe\">\n",
       "  <thead>\n",
       "    <tr style=\"text-align: right;\">\n",
       "      <th></th>\n",
       "      <th>fixed acidity</th>\n",
       "      <th>volatile acidity</th>\n",
       "      <th>citric acid</th>\n",
       "      <th>residual sugar</th>\n",
       "      <th>chlorides</th>\n",
       "      <th>free sulfur dioxide</th>\n",
       "      <th>total sulfur dioxide</th>\n",
       "      <th>density</th>\n",
       "      <th>pH</th>\n",
       "      <th>sulphates</th>\n",
       "      <th>alcohol</th>\n",
       "      <th>quality</th>\n",
       "    </tr>\n",
       "  </thead>\n",
       "  <tbody>\n",
       "    <tr>\n",
       "      <th>0</th>\n",
       "      <td>7.4</td>\n",
       "      <td>0.70</td>\n",
       "      <td>0.00</td>\n",
       "      <td>1.9</td>\n",
       "      <td>0.076</td>\n",
       "      <td>11.0</td>\n",
       "      <td>34.0</td>\n",
       "      <td>0.9978</td>\n",
       "      <td>3.51</td>\n",
       "      <td>0.56</td>\n",
       "      <td>9.4</td>\n",
       "      <td>5</td>\n",
       "    </tr>\n",
       "    <tr>\n",
       "      <th>1</th>\n",
       "      <td>7.8</td>\n",
       "      <td>0.88</td>\n",
       "      <td>0.00</td>\n",
       "      <td>2.6</td>\n",
       "      <td>0.098</td>\n",
       "      <td>25.0</td>\n",
       "      <td>67.0</td>\n",
       "      <td>0.9968</td>\n",
       "      <td>3.20</td>\n",
       "      <td>0.68</td>\n",
       "      <td>9.8</td>\n",
       "      <td>5</td>\n",
       "    </tr>\n",
       "    <tr>\n",
       "      <th>2</th>\n",
       "      <td>7.8</td>\n",
       "      <td>0.76</td>\n",
       "      <td>0.04</td>\n",
       "      <td>2.3</td>\n",
       "      <td>0.092</td>\n",
       "      <td>15.0</td>\n",
       "      <td>54.0</td>\n",
       "      <td>0.9970</td>\n",
       "      <td>3.26</td>\n",
       "      <td>0.65</td>\n",
       "      <td>9.8</td>\n",
       "      <td>5</td>\n",
       "    </tr>\n",
       "    <tr>\n",
       "      <th>3</th>\n",
       "      <td>11.2</td>\n",
       "      <td>0.28</td>\n",
       "      <td>0.56</td>\n",
       "      <td>1.9</td>\n",
       "      <td>0.075</td>\n",
       "      <td>17.0</td>\n",
       "      <td>60.0</td>\n",
       "      <td>0.9980</td>\n",
       "      <td>3.16</td>\n",
       "      <td>0.58</td>\n",
       "      <td>9.8</td>\n",
       "      <td>6</td>\n",
       "    </tr>\n",
       "    <tr>\n",
       "      <th>4</th>\n",
       "      <td>7.4</td>\n",
       "      <td>0.70</td>\n",
       "      <td>0.00</td>\n",
       "      <td>1.9</td>\n",
       "      <td>0.076</td>\n",
       "      <td>11.0</td>\n",
       "      <td>34.0</td>\n",
       "      <td>0.9978</td>\n",
       "      <td>3.51</td>\n",
       "      <td>0.56</td>\n",
       "      <td>9.4</td>\n",
       "      <td>5</td>\n",
       "    </tr>\n",
       "  </tbody>\n",
       "</table>\n",
       "</div>"
      ],
      "text/plain": [
       "   fixed acidity  volatile acidity  citric acid  residual sugar  chlorides  \\\n",
       "0            7.4              0.70         0.00             1.9      0.076   \n",
       "1            7.8              0.88         0.00             2.6      0.098   \n",
       "2            7.8              0.76         0.04             2.3      0.092   \n",
       "3           11.2              0.28         0.56             1.9      0.075   \n",
       "4            7.4              0.70         0.00             1.9      0.076   \n",
       "\n",
       "   free sulfur dioxide  total sulfur dioxide  density    pH  sulphates  \\\n",
       "0                 11.0                  34.0   0.9978  3.51       0.56   \n",
       "1                 25.0                  67.0   0.9968  3.20       0.68   \n",
       "2                 15.0                  54.0   0.9970  3.26       0.65   \n",
       "3                 17.0                  60.0   0.9980  3.16       0.58   \n",
       "4                 11.0                  34.0   0.9978  3.51       0.56   \n",
       "\n",
       "   alcohol  quality  \n",
       "0      9.4        5  \n",
       "1      9.8        5  \n",
       "2      9.8        5  \n",
       "3      9.8        6  \n",
       "4      9.4        5  "
      ]
     },
     "execution_count": 1,
     "metadata": {},
     "output_type": "execute_result"
    }
   ],
   "source": [
    "import numpy as np\n",
    "import pandas as pd\n",
    "\n",
    "wine = pd.read_csv(\"winequality-red.csv\", sep=\";\")\n",
    "wine.head()"
   ]
  },
  {
   "cell_type": "markdown",
   "id": "f3f5687d-baa3-41b2-b183-4315abac6ea6",
   "metadata": {},
   "source": [
    "## 4(b)"
   ]
  },
  {
   "cell_type": "code",
   "execution_count": 2,
   "id": "63f280cb-4014-4a61-abd9-aa6d1c500c7c",
   "metadata": {},
   "outputs": [],
   "source": [
    "from sklearn.model_selection import train_test_split\n",
    "\n",
    "X = wine.drop(\"quality\", axis = 1)\n",
    "y = wine[\"quality\"]\n",
    "X_train, X_test, y_train, y_test = train_test_split(X, y, test_size = 0.2)\n",
    "\n",
    "X_train.reset_index(drop = True, inplace = True)\n",
    "X_test.reset_index(drop = True, inplace = True)\n",
    "y_train.reset_index(drop = True, inplace = True)\n",
    "y_test.reset_index(drop = True, inplace = True)"
   ]
  },
  {
   "cell_type": "markdown",
   "id": "24989dd2-6996-466f-91fd-94ffadbf9d51",
   "metadata": {},
   "source": [
    "## 4\\(c\\)\n",
    "\n",
    "* Here, I calculate the least squares solution using the least squares formula ((X\\^T)X)\\^(-1)(X\\^T)y."
   ]
  },
  {
   "cell_type": "code",
   "execution_count": 4,
   "id": "cb25e7e0-c7d4-4719-b7b8-fef16987b87c",
   "metadata": {},
   "outputs": [],
   "source": [
    "def train_slr(X, y):\n",
    "    data_matrix = np.array(pd.concat([pd.Series(1, index = X.index, name = 'Constant'), X], axis=1))\n",
    "    return np.linalg.inv(data_matrix.T @ data_matrix) @ (data_matrix.T) @ y"
   ]
  },
  {
   "cell_type": "markdown",
   "id": "f2e1406f-9281-44b5-b1a7-6189f93dc15f",
   "metadata": {},
   "source": [
    "## 4(d)\n",
    "\n",
    "* I calcutate the predictions using the data matrix multiplied by the least squares solution beta."
   ]
  },
  {
   "cell_type": "code",
   "execution_count": 5,
   "id": "b8c77add-3d3b-473c-97a0-3dfc17644ef8",
   "metadata": {},
   "outputs": [
    {
     "data": {
      "image/png": "[encoded data removed]",
      "text/plain": [
       "<Figure size 640x480 with 1 Axes>"
      ]
     },
     "metadata": {},
     "output_type": "display_data"
    }
   ],
   "source": [
    "beta = train_slr(X_train, y_train)\n",
    "y_train_pred = pd.concat([pd.Series(1, index = X_train.index, name = 'Constant'), X_train], axis=1) @ beta\n",
    "\n",
    "import matplotlib.pyplot as plt\n",
    "\n",
    "plt.scatter(y_train, y_train_pred, s = 2)\n",
    "plt.xlabel('Actual Target Values')\n",
    "plt.ylabel('Predicted Target Values')\n",
    "plt.title('Actual vs Predicted Target Values on Train Data')\n",
    "plt.plot([min(y_train), max(y_train)], [min(y_train), max(y_train)], color='red', lw=1)  # Identity line\n",
    "plt.show()"
   ]
  },
  {
   "cell_type": "markdown",
   "id": "1eec43d6-179f-48c0-a480-776c606585d9",
   "metadata": {},
   "source": [
    "* The plot shows the relationship between actual target values and the target values that are predicted in the simple linear regression model. We want the points in the scatterplot to lie on or close to the red line because this indicates that the model predictions are closer to the true values."
   ]
  },
  {
   "cell_type": "markdown",
   "id": "1b7988a3-3c9e-459f-92b6-dcf7c8e51950",
   "metadata": {},
   "source": [
    "## 4(e)\n",
    "\n",
    "* I calculate the RMSE by taking the square root of the mean of the prediction minus the actual."
   ]
  },
  {
   "cell_type": "code",
   "execution_count": 6,
   "id": "fc54f282-b9d3-41c0-859d-0d8ccd834c92",
   "metadata": {},
   "outputs": [
    {
     "name": "stdout",
     "output_type": "stream",
     "text": [
      "Train RMSE: 0.649405862720735\n",
      "Test RMSE: 0.6355993643465887\n"
     ]
    }
   ],
   "source": [
    "def rmse(X, y, beta):\n",
    "    data_matrix = np.array(pd.concat([pd.Series(1, index = X.index, name = 'Constant'), X], axis=1))\n",
    "    return np.sqrt(np.mean((data_matrix @ beta - y)**2))\n",
    "\n",
    "beta = train_slr(X_train, y_train)\n",
    "print(\"Train RMSE:\", rmse(X_train, y_train, beta))\n",
    "print(\"Test RMSE:\", rmse(X_test, y_test, beta))"
   ]
  },
  {
   "cell_type": "markdown",
   "id": "0e5cd9fd-f856-4c18-83cc-aa064286f555",
   "metadata": {},
   "source": [
    "## 4(f)\n",
    "\n",
    "* I use stochastic gradient descent to calculate the appropriate weights."
   ]
  },
  {
   "cell_type": "code",
   "execution_count": 17,
   "id": "9178bff6-dd66-4f03-a958-543a23967e98",
   "metadata": {},
   "outputs": [],
   "source": [
    "def lms(X, y, stepsize = 0.0001, n_iterations=100000):\n",
    "    \n",
    "    data_matrix = pd.concat([pd.Series(1, index = X.index, name = 'Constant'), X], axis=1)\n",
    "\n",
    "    # initialize random weights\n",
    "    np.random.seed(123)\n",
    "    weights = np.random.rand(data_matrix.shape[1])\n",
    "    \n",
    "    for _ in range(n_iterations):\n",
    "        # update the weights using SGD\n",
    "        n = np.random.randint(0, data_matrix.shape[0])\n",
    "        weights = weights + stepsize * (y[n] - weights @ np.array(data_matrix.iloc[n, :])) * np.array(data_matrix.iloc[n, :])\n",
    "    \n",
    "    return weights\n",
    "\n",
    "weights_lms = lms(X_train, y_train)"
   ]
  },
  {
   "cell_type": "markdown",
   "id": "548e6f36-2a90-4ec1-875a-417039196e3b",
   "metadata": {},
   "source": [
    "## 4(g)"
   ]
  },
  {
   "cell_type": "code",
   "execution_count": 18,
   "id": "8dbfb3df-3d7e-4be3-861c-3133ca9731be",
   "metadata": {},
   "outputs": [
    {
     "name": "stdout",
     "output_type": "stream",
     "text": [
      "Train RMSE: 0.6872434486788287\n",
      "Test RMSE: 0.6526489204912195\n"
     ]
    }
   ],
   "source": [
    "print(\"Train RMSE:\", rmse(X_train, y_train, weights_lms))\n",
    "print(\"Test RMSE:\", rmse(X_test, y_test, weights_lms))"
   ]
  },
  {
   "cell_type": "markdown",
   "id": "c961594b-1d02-4702-8f7d-6c5b95e70e8b",
   "metadata": {},
   "source": [
    "* The RMSE is very similar to the RMSE of t"
   ]
  }
 ],
 "metadata": {
  "kernelspec": {
   "display_name": "Python 3 (ipykernel)",
   "language": "python",
   "name": "python3"
  },
  "language_info": {
   "codemirror_mode": {
    "name": "ipython",
    "version": 3
   },
   "file_extension": ".py",
   "mimetype": "text/x-python",
   "name": "python",
   "nbconvert_exporter": "python",
   "pygments_lexer": "ipython3",
   "version": "3.11.5"
  }
 },
 "nbformat": 4,
 "nbformat_minor": 5
}
